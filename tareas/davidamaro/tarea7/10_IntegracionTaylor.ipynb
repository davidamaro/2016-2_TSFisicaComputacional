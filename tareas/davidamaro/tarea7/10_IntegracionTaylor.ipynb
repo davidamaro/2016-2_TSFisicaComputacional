{
 "cells": [
  {
   "cell_type": "markdown",
   "metadata": {
    "slideshow": {
     "slide_type": "slide"
    }
   },
   "source": [
    "# Integración por Taylor"
   ]
  },
  {
   "cell_type": "markdown",
   "metadata": {
    "slideshow": {
     "slide_type": "-"
    }
   },
   "source": [
    "Aquí veremos un ejemplo sencillo de cómo integrar usando el método de Tayor en un problema de valor inicial, o sea, para una ecuación diferencial ordinaria con una condición inicial."
   ]
  },
  {
   "cell_type": "markdown",
   "metadata": {
    "slideshow": {
     "slide_type": "subslide"
    }
   },
   "source": [
    "El punto de partida, y *absolutamente importante* en todo lo que sigue, es el [Teorema Fundamental de las Ecuaciones Diferenciales Ordinarias](https://en.wikipedia.org/wiki/Picard%E2%80%93Lindel%C3%B6f_theorem), (o teorema de existencia y unicidad de las EDOs):\n",
    "\n",
    "#### Teorema\n",
    "\n",
    "Consideren el problema de valores iniciales $y'(t)=f(t,y(t)),\\ y(t_0)=y_0$. Suponemos que $f(t,y)$ es Lipschitz uniformemente continua en $y$ (lo que significa que hay una constante, independiente de $t$, que acota $f$ para todo intervalo de su dominio) y continua en $t$. Entonces, para algún valor $\\varepsilon > 0$ existe una solución única $y(t)$ al problema de valor inicial en el intervalo $[t_0-\\varepsilon, t_0+\\varepsilon]$.\n",
    "\n",
    "**Importante:** El teorema establece la existencia y unicidad de la solución en un intervalo de $t$ en torno al valor $t_0$ que especifica la condición inicial. Esto, sin embargo, **no** implica que la solución exista para todo tiempo $t>t_0$."
   ]
  },
  {
   "cell_type": "markdown",
   "metadata": {
    "slideshow": {
     "slide_type": "slide"
    }
   },
   "source": [
    "## Un ejemplo sencillo"
   ]
  },
  {
   "cell_type": "markdown",
   "metadata": {
    "slideshow": {
     "slide_type": "-"
    }
   },
   "source": [
    "El método de Taylor lo describiremos a través de un ejemplo. Concretamente, ilustraremos como integrar la ecuación diferencial\n",
    "\n",
    "\\begin{equation}\n",
    "\\dot{x} = f(x) = x^2,\n",
    "\\end{equation}\n",
    "\n",
    "con $x(0) = 3$."
   ]
  },
  {
   "cell_type": "markdown",
   "metadata": {
    "slideshow": {
     "slide_type": "subslide"
    }
   },
   "source": [
    "Antes de describir el método, vale la pena notar que esta ecuación la podemos resolver analíticamente. La solución, como se puede comprobar rápidamente es\n",
    "\n",
    "\\begin{equation}\n",
    "x(t) = \\frac{3}{1-3t}.\n",
    "\\end{equation}\n",
    "\n",
    "Esta solución muestra que $x(t)\\to\\infty$ cuando $t\\to 1/3$; esto es un ejemplo de que la solución $x(t)$ **no existe** para $t>1/3$. \n"
   ]
  },
  {
   "cell_type": "markdown",
   "metadata": {
    "slideshow": {
     "slide_type": "fragment"
    }
   },
   "source": [
    "El punto importante de este comentario es que, sin importar el método de integración, si hiciéramos una integración \"larga\" usando un *paso de integración constante* (o sea, a partir de $x(t_k)$ obtenemos $x(t_{k+1})$, con $t_{k+1} = t_0 + (k+1)\\delta t = t_k + \\delta t$), el método continuará la integración más allá de $t=1/3$, que es hasta donde tiene sentido la solución, a menos de que tengamos la buena fortuna de caer exactamente en $t_n=1$. Esto es una *advertencia* de que uno debe ser extremandamente cuidadoso si considera pasos de integración constantes. \n",
    "\n",
    "Sin embargo, si tenemos un método de integración con paso adaptativo, hay esperanza de que este problema no ocurra.\n"
   ]
  },
  {
   "cell_type": "markdown",
   "metadata": {
    "slideshow": {
     "slide_type": "subslide"
    }
   },
   "source": [
    "La idea del método de Taylor es construir una solución (local en $t$) que aproxime muy bien la solución de la ecuación diferencial en alguna vecindad del punto inicial $t_0$. En particular, escribimos el polinomios (en torno a $t_0$), esto es\n",
    "\n",
    "\\begin{equation}\n",
    "x(t) = \\sum_{k=0}^\\infty x_{[k]}(t_0)\\, (t-t_0)^k,\n",
    "\\end{equation}\n",
    "\n",
    "donde $x_{[k]}(t_0)$ es el coeficiente de Taylor de orden $k$. Esta solución cumple la condición inicial imponiendo $x_{[0]}(t_0) = x_0$. \n",
    "Excepto por $x_{[0]}(t_0)$, el resto de los coeficientes del desarrollo son por determinar, cosa que haremos iterativamente. \n",
    "\n",
    "Empezaremos considerando que $p$ es infinito, o sea, construiremos la solución analítica; después entraremos en las sutilezas de tener aproximaciones de orden finito."
   ]
  },
  {
   "cell_type": "markdown",
   "metadata": {
    "slideshow": {
     "slide_type": "subslide"
    }
   },
   "source": [
    "### Solución a primer orden"
   ]
  },
  {
   "cell_type": "markdown",
   "metadata": {
    "slideshow": {
     "slide_type": "-"
    }
   },
   "source": [
    "Escribimos, como aproximación de primer orden a la solución en la forma $x(t) = x_0 + x{[1]}(t_0)\\, (t-t_0) + \\mathcal{O}((t-t_0)^2)$, y queremos obtener el valor de $x_{[1]}(t_0)$. De aquí, tenemos que $\\dot{x} = x{[1]}+ \\mathcal{O}((t-t_0))$, y sustituyendo en ambos lados de la ecuación diferencial obtenemos\n",
    "\n",
    "\\begin{eqnarray}\n",
    "x{[1]} + \\mathcal{O}((t-t_0)) & = & \\big[x_0 + x{[1]}(t_0)\\, (t-t_0) + \\mathcal{O}((t-t_0)^2)\\big]^2 \\\\\n",
    "& = & x_0^2 + \\mathcal{O}((t-t_0)).\n",
    "\\end{eqnarray}\n",
    "\n",
    "De aquí concluimos que $x_{[1]}=x_0^2$.\n",
    "\n",
    "Es importante notar que **no** necesitamos hacer el cálculo explícito del cuadrado de todo el polinomio; *únicamente* calculamos (y usamos) el término de orden cero en el lado derecho de la ecuación."
   ]
  },
  {
   "cell_type": "markdown",
   "metadata": {
    "slideshow": {
     "slide_type": "subslide"
    }
   },
   "source": [
    "### Solución a segundo orden y órdenes mayores"
   ]
  },
  {
   "cell_type": "markdown",
   "metadata": {},
   "source": [
    "Para la aproximación a segundo orden escribimos $x(t) = x_0 + x_0^2 (t-t_0) + x{[2]}(t-t_0)^2+\\mathcal{O}((t-t_0)^3)$, donde queremos obtener $x_{[2]}(t_0)$. En este caso, la derivada es $\\dot{x} = x_0^2 + x_{[2]}(t_0)\\,(t-t_0) + \\mathcal{O}((t-t_0)^2)$, y sustituyendo nuevamente en la ecuación diferencial obtenemos\n",
    "\n",
    "\\begin{eqnarray}\n",
    "x_0^2 + 2 x_{[2]}(t_0)\\,(t-t_0) + \\mathcal{O}((t-t_0)^2) & = & \\big[x_0 + x_0^2 (t-t_0) + x{[2]}(t-t_0)^2+\\mathcal{O}((t-t_0)^3)\\big]^2 \\\\\n",
    "& = & x_0^2 + 2 x_0^3 (t-t_0) + \\mathcal{O}((t-t_0)^2).\n",
    "\\end{eqnarray}\n",
    "\n",
    "De aquí obtenemos $x_{[2]}(t_0) = x_0^3$. Nuevamente, vale la pena enfatizar que el lado derecho de la ecuación sólo se calcula a primer orden."
   ]
  },
  {
   "cell_type": "markdown",
   "metadata": {
    "slideshow": {
     "slide_type": "subslide"
    }
   },
   "source": [
    "Para órdenes más altos, uno continua de igual manera: $x(t) = x_0 + x_0^2 (t-t_0) + x_0^3 (t-t_0)^2+ x{[3]}(t-t_0)^3+\\mathcal{O}((t-t_0)^4)$, y al derivar y substituir $x^2$, se obtiene $x{[3]}(t_0)=x_0^4$. Y así se continua sucesivamente.\n",
    "\n",
    "Finalmente, se obtiene que\n",
    "\n",
    "\\begin{eqnarray}\n",
    "x(t) & = & x_0 + x_0^2 (t-t_0) + x_0^3 (t-t_0)^2 + x_0^4 (t-t_0)^3 + \\dots \\\\\n",
    "     & = & x_0 \\big(1 + x_0 (t-t_0) + x_0^2 (t-t_0)^2 + \\dots\\big) = \\frac{x_0}{1-x_0(t-t_0)},\\\\\n",
    "\\end{eqnarray}\n",
    "\n",
    "donde $t$ está limitado por $t - t_0 = 1/x_0$. Esto coincide con el resultado analítico que se espera.\n",
    "\n",
    "Vale la pena notar que, para que la serie converja absolutamente, se requiere que los términos sucesivos satisfagan ($t>t_0$)\n",
    "\n",
    "\\begin{equation}\n",
    "\\Big | \\frac{ x_{[n]}(t_0)\\, (t-t_0)^n }{x_{[n+1]}(t_0)\\, (t-t_0)^{n+1}}\\Big| = \\frac{1}{|x_0|(t-t_0)} < 1,\n",
    "\\end{equation}\n",
    "\n",
    "lo que define el radio de convergencia en $t$ de la serie."
   ]
  },
  {
   "cell_type": "markdown",
   "metadata": {
    "slideshow": {
     "slide_type": "subslide"
    }
   },
   "source": [
    "## El método de Taylor"
   ]
  },
  {
   "cell_type": "markdown",
   "metadata": {},
   "source": [
    "### Relaciones de recurrencia de los coeficientes de Taylor"
   ]
  },
  {
   "cell_type": "code",
   "execution_count": 278,
   "metadata": {
    "collapsed": false
   },
   "outputs": [
    {
     "data": {
      "text/plain": [
       "AD.Taylor{Int64,Float64}(0,[9.0,54.0,81.0,0.0,0.0,0.0,0.0,0.0])"
      ]
     },
     "execution_count": 278,
     "metadata": {},
     "output_type": "execute_result"
    }
   ],
   "source": [
    "AD.Taylor(0,[3,9,0,0])^2"
   ]
  },
  {
   "cell_type": "markdown",
   "metadata": {
    "slideshow": {
     "slide_type": "-"
    }
   },
   "source": [
    "En general, para la ecuación diferencial $\\dot{x} = f(x(t))$ con $x_0=x(t_0)$, uno puede demostrar que los coeficientes $x_{[k]}$ están dados por\n",
    "\n",
    "\\begin{equation}\n",
    "x_{[k]} = \\frac{f_{[k-1]}}{k},\n",
    "\\end{equation}\n",
    "\n",
    "donde los coeficientes $f_{[k']}$ son los coeficientes del desarrollo en serie de Taylor en $t-t_0$ de $f(x(t))$. Esta es una relación de recurrencia para $x_{[k]}$. Es claro que, dado que el lado derecho de la ecuación anterior involucra los coeficientes $f_{[k']}$, uno debe implementar funciones que permitan calcular dichos coeficientes."
   ]
  },
  {
   "cell_type": "markdown",
   "metadata": {
    "slideshow": {
     "slide_type": "slide"
    }
   },
   "source": [
    "### Paso de integración"
   ]
  },
  {
   "cell_type": "markdown",
   "metadata": {
    "collapsed": true
   },
   "source": [
    "Claramente, lo descrito más arriba no se puede implementar en la computadora. Es decir, estamos obligados a truncar el polinomio de Taylor en un grado $p$ (finito). Formalmente,  escribimos\n",
    "\n",
    "\\begin{equation}\n",
    "x(t) = \\sum_{k=0}^p x_{[k]}(t_0)\\, (t-t_0)^k + \\mathcal{R}_p ,\n",
    "\\end{equation}\n",
    "\n",
    "donde el *residuo* está dado por\n",
    "\n",
    "\\begin{equation}\n",
    "\\mathcal{R}_p = x_{[p+1]}(\\xi)\\, (t-t_0)^{p+1},\n",
    "\\end{equation}\n",
    " y $\\xi \\in [t_0, t]$."
   ]
  },
  {
   "cell_type": "markdown",
   "metadata": {
    "slideshow": {
     "slide_type": "subslide"
    }
   },
   "source": [
    "Queremos, entonces, truncar la serie en un $p$ finito, pero suficientemente grande de tal manera que el residuo sea pequeño."
   ]
  },
  {
   "cell_type": "markdown",
   "metadata": {
    "slideshow": {
     "slide_type": "fragment"
    }
   },
   "source": [
    "¿Dónde truncamos? En general esto sólo lo podemos contestar si podemos conocer el residuo (en términos de $p$), cosa que no es sencilla. \n",
    "\n",
    "Es por esto que uno *usa* las propiedades de convergencia de la serie de Taylor para $x(t)$, para $p$ *suficientemente* grande. Si $p$ es suficientemente grande, entonces las correcciones sucesivas serán cada vez menores, ya que la serie es convergente. "
   ]
  },
  {
   "cell_type": "markdown",
   "metadata": {
    "slideshow": {
     "slide_type": "subslide"
    }
   },
   "source": [
    "En particular, para $p$ suficientemente grande tendremos\n",
    "\n",
    "\\begin{equation}\n",
    "\\big| \\, x_{[p]}(t_0)\\, (t-t_0)^p \\, \\big| \\leq \\epsilon,\n",
    "\\end{equation}\n",
    "\n",
    "donde $\\epsilon$ es una cota, *suficientemente pequeña*, para *todos* los términos sucesivos.\n",
    "\n",
    "De aquí obtenemos una cota para el paso de integración $h=t-t_0$,\n",
    "\n",
    "\\begin{equation}\n",
    "h = t-t_0 \\leq \\Big(\\frac{\\epsilon}{\\big| x_{[p]}(t_0)\\big|}\\Big)^{1/p}.\n",
    "\\end{equation}\n",
    "\n",
    "Uno elige $\\epsilon$ para que sea mucho menor que el epsilon de la máquina. \n",
    "\n",
    "El paso de integración obtenido depende de $t_0$; por lo tanto, al hacer la evolución temporal, distintos pasos de integración se irán calculando, por lo que el paso de integración en general no será constante."
   ]
  },
  {
   "cell_type": "markdown",
   "metadata": {
    "slideshow": {
     "slide_type": "subslide"
    }
   },
   "source": [
    "Algo importante que vale la pena hacer notar es que, fijando $h$ de tal manera que se garantiza la convergencia de la serie, la serie de Taylor se aplica a todo valor de $t$ tal que $t_0 \\leq t \\leq t_0 + h$."
   ]
  },
  {
   "cell_type": "markdown",
   "metadata": {
    "slideshow": {
     "slide_type": "subslide"
    }
   },
   "source": [
    "En la práctica, y dado que normalmente uno lidia con ecuaciones de segundo orden, uno considera el menor de los pasos de integración obtenidos a partir de los dos últimos términos de la serie de Taylor.\n",
    "\n",
    "Es *importante* enfatizar que este procedimiento sólo funciona cuando el orden $p$ es suficientemente grande, de tal manera que estamos entrados en la cola convergente de la serie. "
   ]
  },
  {
   "cell_type": "markdown",
   "metadata": {
    "slideshow": {
     "slide_type": "slide"
    }
   },
   "source": [
    "### Sumando la serie"
   ]
  },
  {
   "cell_type": "markdown",
   "metadata": {
    "slideshow": {
     "slide_type": "-"
    }
   },
   "source": [
    "Una vez que tenemos el paso de integración $h$, queremos sumar la serie para obtener $x(t_1)$ con $t_1 = t_0+h$. Para esto, simplemente debemos sumar la serie\n",
    "\n",
    "\\begin{equation}\n",
    "x(t_1) = x(t_0+h) = \\sum_{k=0}^p x_{[k]}(t_0)\\, h^k.\n",
    "\\end{equation}\n",
    "\n",
    "Numéricamente, la mejor manera de hacer esto es usando [el método de Horner](https://en.wikipedia.org/wiki/Horner%27s_method). El método de Horner consiste en factorizar de manera apropiada el polinomio, el cual sólo se evalúa a través de productos y sumas (¡sin potencias!). Esto permite, por un lado, minimizar el número de operaciones, y en el caso de series de Taylor de orden suficientemente grande para estar en la cola convergente, considerar correctamente los términos pequeños."
   ]
  },
  {
   "cell_type": "code",
   "execution_count": 276,
   "metadata": {
    "collapsed": false
   },
   "outputs": [
    {
     "data": {
      "text/plain": [
       "3.0000000003333334"
      ]
     },
     "execution_count": 276,
     "metadata": {},
     "output_type": "execute_result"
    }
   ],
   "source": [
    "3+(1e-3)^3/3"
   ]
  },
  {
   "cell_type": "code",
   "execution_count": 277,
   "metadata": {
    "collapsed": false
   },
   "outputs": [
    {
     "data": {
      "text/plain": [
       "3.0090270812437314"
      ]
     },
     "execution_count": 277,
     "metadata": {},
     "output_type": "execute_result"
    }
   ],
   "source": [
    "3/(1-3*(1e-3))"
   ]
  },
  {
   "cell_type": "markdown",
   "metadata": {
    "slideshow": {
     "slide_type": "subslide"
    }
   },
   "source": [
    "Reescribiendo la serie tenemos\n",
    "\n",
    "\\begin{eqnarray}\n",
    "x(t_1) & = & x_0 + x_{[1]} \\, h + \\dots + x_{[p-1]} \\,h^{p-1} + x_{[p]} \\, h^p\\\\\n",
    "& = & x_0 + x_{[1]} \\, h + \\dots + h^{p-1} ( x_{[p-1]} + h x_{[p]} )\\\\\n",
    "& = & x_0 + x_{[1]} \\, h + \\dots + h^{p-2} ( x_{[p-2]} + h ( x_{[p-1]} + h x_{[p]} ) )\\\\\n",
    "& = & x_0 + h\\big( x_{[1]} + h(... + h ( x_{[p-1]} + h x_{[p]} )...\\big).\n",
    "\\end{eqnarray}\n",
    "\n",
    "Entonces, consideramos primero (para la suma) el término $x_{[p]}$ y $x_{[p]}$, a partir de los cuales construimos $\\tilde{x}_{p-1} = x_{[p-1]} + h x_{[p]}$, y usando $\\tilde{x}_{p-1}$ obtenemos $\\tilde{x}_{p-2} = x_{[p-2]} + h \\tilde{x}_{p-1}$, y así sucesivamente hasta tener $\\tilde{x}_0=x(t_1)$, que es el resultado buscado.\n",
    "\n",
    "Una vez que hemos obtenido $x(t_1)$, uno utiliza este valor como la nueva condición inicial, y simplemente se iteran los pasos anteriores hasta obtener $x(t_2)$."
   ]
  },
  {
   "cell_type": "markdown",
   "metadata": {
    "slideshow": {
     "slide_type": "slide"
    }
   },
   "source": [
    "## Tarea 7"
   ]
  },
  {
   "cell_type": "markdown",
   "metadata": {
    "slideshow": {
     "slide_type": "-"
    }
   },
   "source": [
    "**NOTA** El contenido de este ejercicio se incluirá en la \"Tarea7.ipynb\". Nuevamente, esta tarea deberá ser elaborada en equipos."
   ]
  },
  {
   "cell_type": "markdown",
   "metadata": {
    "slideshow": {
     "slide_type": "subslide"
    }
   },
   "source": [
    "### Ejercicio"
   ]
  },
  {
   "cell_type": "code",
   "execution_count": 17,
   "metadata": {
    "collapsed": false
   },
   "outputs": [
    {
     "name": "stderr",
     "output_type": "stream",
     "text": [
      "WARNING: New definition \n",
      "    ^(AD.Taylor, Number) at /home/david/usurpador/2016-2_TSFisicaComputacional/notas_clase/Automata.jl:152\n",
      "is ambiguous with: \n",
      "    ^(Any, Integer) at intfuncs.jl:108.\n",
      "To fix, define \n",
      "    ^(AD.Taylor, Integer)\n",
      "before the new definition.\n"
     ]
    },
    {
     "data": {
      "text/plain": [
       "AD"
      ]
     },
     "execution_count": 17,
     "metadata": {},
     "output_type": "execute_result"
    }
   ],
   "source": [
    "include(\"Automata.jl\")"
   ]
  },
  {
   "cell_type": "code",
   "execution_count": 18,
   "metadata": {
    "collapsed": true
   },
   "outputs": [],
   "source": [
    "using AD"
   ]
  },
  {
   "cell_type": "code",
   "execution_count": 2,
   "metadata": {
    "collapsed": false
   },
   "outputs": [],
   "source": [
    "using PyPlot"
   ]
  },
  {
   "cell_type": "code",
   "execution_count": 4,
   "metadata": {
    "collapsed": false
   },
   "outputs": [
    {
     "data": {
      "text/plain": [
       "8-element Array{Float64,1}:\n",
       " 3.0    \n",
       " 3.33367\n",
       " 3.66733\n",
       " 4.001  \n",
       " 4.33467\n",
       " 4.66834\n",
       " 5.002  \n",
       " 5.33567"
      ]
     },
     "execution_count": 4,
     "metadata": {},
     "output_type": "execute_result"
    }
   ],
   "source": [
    "valores = [3,3.333667,3.6673340000000003,4.0010010000000005,4.334668000000001,4.668335000000001,5.002002000000001,5.335669000000001]"
   ]
  },
  {
   "cell_type": "code",
   "execution_count": 5,
   "metadata": {
    "collapsed": false
   },
   "outputs": [
    {
     "data": {
      "text/plain": [
       "8-element Array{Float64,1}:\n",
       " 0.0  \n",
       " 0.001\n",
       " 0.002\n",
       " 0.003\n",
       " 0.004\n",
       " 0.005\n",
       " 0.006\n",
       " 0.007"
      ]
     },
     "execution_count": 5,
     "metadata": {},
     "output_type": "execute_result"
    }
   ],
   "source": [
    "hs = [0,1e-3,2*1e-3,3*1e-3,4*1e-3,5*1e-3,6*1e-3,7*1e-3]"
   ]
  },
  {
   "cell_type": "code",
   "execution_count": 275,
   "metadata": {
    "collapsed": false
   },
   "outputs": [
    {
     "data": {
      "text/plain": [
       "AD.Taylor{Int64,Float64}(3,[0.0,0.0,1.0,0.0,0.0,0.0])"
      ]
     },
     "execution_count": 275,
     "metadata": {},
     "output_type": "execute_result"
    }
   ],
   "source": [
    "juas = AD.Taylor(3,[0,1.,0.])^2"
   ]
  },
  {
   "cell_type": "code",
   "execution_count": 274,
   "metadata": {
    "collapsed": false
   },
   "outputs": [
    {
     "data": {
      "text/plain": [
       "AD.Taylor{Float64,Float64}(3.0000000003333334,[0.0,0.0,1.0,0.0,0.0,0.0])"
      ]
     },
     "execution_count": 274,
     "metadata": {},
     "output_type": "execute_result"
    }
   ],
   "source": [
    "a = integrador(juas)"
   ]
  },
  {
   "cell_type": "code",
   "execution_count": 263,
   "metadata": {
    "collapsed": true
   },
   "outputs": [],
   "source": [
    "for i in 1:50\n",
    "    a = integrador(a)\n",
    "end"
   ]
  },
  {
   "cell_type": "code",
   "execution_count": 264,
   "metadata": {
    "collapsed": false
   },
   "outputs": [
    {
     "data": {
      "text/plain": [
       "AD.Taylor{Float64,Float64}(3.9994212962970916,[0.0,0.0,1.0,0.0,0.0,0.0])"
      ]
     },
     "execution_count": 264,
     "metadata": {},
     "output_type": "execute_result"
    }
   ],
   "source": [
    "a"
   ]
  },
  {
   "cell_type": "code",
   "execution_count": 177,
   "metadata": {
    "collapsed": false
   },
   "outputs": [
    {
     "data": {
      "text/plain": [
       "4.0"
      ]
     },
     "execution_count": 177,
     "metadata": {},
     "output_type": "execute_result"
    }
   ],
   "source": [
    "3/(1-3*(1/12))"
   ]
  },
  {
   "cell_type": "code",
   "execution_count": 269,
   "metadata": {
    "collapsed": false
   },
   "outputs": [
    {
     "data": {
      "text/plain": [
       "integrador (generic function with 1 method)"
      ]
     },
     "execution_count": 269,
     "metadata": {},
     "output_type": "execute_result"
    }
   ],
   "source": [
    "function integrador(taylor)\n",
    "    copia = copy(taylor.coef)\n",
    "    sol = recibe(taylor.coef,taylor.ini)\n",
    "    #@show sol\n",
    "    #h = coef(sol)\n",
    "    h = 1e-3\n",
    "    #@show h\n",
    "    AD.Taylor(suma(h,sol),copia)\n",
    "end"
   ]
  },
  {
   "cell_type": "code",
   "execution_count": 270,
   "metadata": {
    "collapsed": false
   },
   "outputs": [
    {
     "data": {
      "text/plain": [
       "suma (generic function with 1 method)"
      ]
     },
     "execution_count": 270,
     "metadata": {},
     "output_type": "execute_result"
    }
   ],
   "source": [
    "function suma(h,x)\n",
    "    p = length(x)\n",
    "    #@show p\n",
    "    xt = zeros(x)\n",
    "    xt[p-1] = x[p-1] + h*x[p]\n",
    "    for i in 3:p\n",
    "        xt[p-i+1] = x[p-i+1] + h*xt[p-i+1+1]\n",
    "    end\n",
    "    xt[1]\n",
    "    #@show xt\n",
    "end"
   ]
  },
  {
   "cell_type": "code",
   "execution_count": 271,
   "metadata": {
    "collapsed": false
   },
   "outputs": [
    {
     "data": {
      "text/plain": [
       "coef (generic function with 1 method)"
      ]
     },
     "execution_count": 271,
     "metadata": {},
     "output_type": "execute_result"
    }
   ],
   "source": [
    "function coef(lista)\n",
    "    a = length(lista)\n",
    "    h = 0\n",
    "    while (lista[a] == 0)\n",
    "        a-=1\n",
    "        h=lista[a]\n",
    "    end\n",
    "\n",
    "    ϵ = 1e-15\n",
    "    (ϵ/h)^(1/a)\n",
    "end"
   ]
  },
  {
   "cell_type": "code",
   "execution_count": 272,
   "metadata": {
    "collapsed": false
   },
   "outputs": [
    {
     "data": {
      "text/plain": [
       "recibe (generic function with 1 method)"
      ]
     },
     "execution_count": 272,
     "metadata": {},
     "output_type": "execute_result"
    }
   ],
   "source": [
    "function recibe(lista,x0)\n",
    "    val = copy(lista)\n",
    "    val[1] = x0\n",
    "    for i in 2:length(lista)\n",
    "        val[i] = lista[i-1]/(i-1)\n",
    "    end\n",
    "    val\n",
    "end"
   ]
  },
  {
   "cell_type": "markdown",
   "metadata": {
    "slideshow": {
     "slide_type": "-"
    }
   },
   "source": [
    "Usando su implementación de polinomios de Taylor, escriban un integrador para la ecuación diferencial que se desarrolló en este ejemplo, esto es, con la condición inicial $x(0) = 3$. \n",
    "\n",
    "El integrador debe hacer las operaciones necesarias para obtener automáticamente los coeficientes $x_{[k]}$, *en cada paso de integración*, a partir de la condición inicial local. Un requisito básico para esto es que tengan una implementación de la función $P_\\alpha(x) = [g(x)]^\\alpha$ con $g(x)$ un polinomio, que obtuvieron en la \"Tarea6\", y que funcione bien en particular para `alpha::Int`."
   ]
  },
  {
   "cell_type": "markdown",
   "metadata": {
    "slideshow": {
     "slide_type": "fragment"
    }
   },
   "source": [
    "La implementación debe consistir de varias funciones: \n",
    "\n",
    "- Una función donde se calculen los coeficientes $x_{[k]}(t_0)$ de la expansión. Esta función deberá llamar a otra donde se implementan las ecuaciones de movimiento.\n",
    "\n",
    "- Una función donde se obtenga el paso de integración $h$.\n",
    "\n",
    "- Otra función donde se haga la suma por el método de Horner.\n",
    "\n",
    "- Finalmente, una función que use las funciones anteriores para hacer la integración desde un tiempo inicial a uno final. En este punto, *fingiremos ignorancia*, en el sentido que el tiempo inicial es cero, y el tiempo final será $0.5$ (que está más allá de donde hay problemas).\n"
   ]
  },
  {
   "cell_type": "markdown",
   "metadata": {
    "slideshow": {
     "slide_type": "fragment"
    }
   },
   "source": [
    "Dado que conocemos la solución analítica, den como función de $t$ el error relativo de su integrador (respecto al valor del resultado analítico)."
   ]
  },
  {
   "cell_type": "code",
   "execution_count": null,
   "metadata": {
    "collapsed": true
   },
   "outputs": [],
   "source": []
  },
  {
   "cell_type": "markdown",
   "metadata": {
    "slideshow": {
     "slide_type": "subslide"
    }
   },
   "source": [
    "### Ejercicio"
   ]
  },
  {
   "cell_type": "markdown",
   "metadata": {
    "slideshow": {
     "slide_type": "-"
    }
   },
   "source": [
    "Repitan los cálculos usando el método de Runge-Kutta de 4o orden con paso de integración fijo (que es lo más sofisticado que conocen hasta ahora) y comparen los resultados del error relativo con el método de Taylor. En particular, finjan ignorancia de la misma manera que en el ejercicio anterior."
   ]
  },
  {
   "cell_type": "code",
   "execution_count": null,
   "metadata": {
    "collapsed": true
   },
   "outputs": [],
   "source": []
  },
  {
   "cell_type": "markdown",
   "metadata": {
    "slideshow": {
     "slide_type": "subslide"
    }
   },
   "source": [
    "### Ejercicio"
   ]
  },
  {
   "cell_type": "markdown",
   "metadata": {},
   "source": [
    "Integra la ecuación de movimiento para el oscilador armónico, $\\ddot{x} = -2x$, con $x(0)=2$, $\\dot{x}(0)=0$, durante 10^4 periodos de oscilación (o sea, hasta $t_f = 10^4 \\cdot 2\\pi/\\sqrt{2}$, usando el método de Taylor y el método de Runge-Kutta de 4o orden con paso de integración constante. Compara cómo cambia la energía (respecto al valor al tiempo cero) en función del tiempo para ambos métodos."
   ]
  },
  {
   "cell_type": "code",
   "execution_count": null,
   "metadata": {
    "collapsed": true
   },
   "outputs": [],
   "source": []
  },
  {
   "cell_type": "code",
   "execution_count": 117,
   "metadata": {
    "collapsed": false
   },
   "outputs": [
    {
     "data": {
      "text/plain": [
       "integrar (generic function with 1 method)"
      ]
     },
     "execution_count": 117,
     "metadata": {},
     "output_type": "execute_result"
    }
   ],
   "source": [
    "function RK2_paso(f, x, t, dt)\n",
    "    k = x + f(x, t) * dt/2 #Se calcula el punto medio\n",
    "    return x + f(k, t+ dt/2) * dt\n",
    "end\n",
    "\n",
    "function RK4_paso(f, x, t, dt)\n",
    "    k_1 = f(x, t)\n",
    "    k_2 = f(x + k_1 * dt/2, t + dt/2)\n",
    "    k_3 = f(x + k_2 * dt/2, t + dt/2)\n",
    "    k_4 = f(x + k_3 * dt, t + dt)\n",
    "    return x + dt * (k_1 +2 * (k_2 + k_3) + k_4 ) / 6\n",
    "end\n",
    "function RK4_paso(f, x, t, dt, β) #PFunción con arámetro auxiliar\n",
    "    k_1 = f(x, t, β)\n",
    "    k_2 = f(x + k_1 * dt/2, t + dt/2, β)\n",
    "    k_3 = f(x + k_2 * dt/2, t + dt/2, β)\n",
    "    k_4 = f(x + k_3 * dt, t + dt, β)\n",
    "    return x + dt * (k_1 +2 * (k_2 + k_3) + k_4 ) / 6\n",
    "end\n",
    "\n",
    "\n",
    "function integrar(f, x_0, t_0, t_f, dt, met) #met=1: Euler, met=2: RK2, met=3 RK3\n",
    "    x_vec = typeof(x_0)[]\n",
    "    t_vec = typeof(dt)[]\n",
    "    push!(x_vec, x_0)\n",
    "    push!(t_vec, t_0)\n",
    "    i = 1\n",
    "    for t in (t_0+dt):dt:t_f\n",
    "        if met == 1\n",
    "            x_nuevo = Euler_paso(f, x_vec[i], t, dt)\n",
    "        elseif met == 2\n",
    "            x_nuevo = RK2_paso(f, x_vec[i], t, dt)\n",
    "        elseif met == 3\n",
    "            x_nuevo = RK4_paso(f, x_vec[i], t, dt)\n",
    "        else println(\"Opción no válida. Por favor ingrese 1, 2 o 3.\")\n",
    "        end\n",
    "        push!(x_vec, x_nuevo)\n",
    "        push!(t_vec, t)\n",
    "        i += 1\n",
    "    end\n",
    "    return t_vec, x_vec\n",
    "end"
   ]
  },
  {
   "cell_type": "code",
   "execution_count": 127,
   "metadata": {
    "collapsed": false
   },
   "outputs": [
    {
     "data": {
      "text/plain": [
       "f_pendulo (generic function with 1 method)"
      ]
     },
     "execution_count": 127,
     "metadata": {},
     "output_type": "execute_result"
    }
   ],
   "source": [
    "function f_pendulo(x, t)\n",
    "    θ = x[1]\n",
    "    ω = x[2]\n",
    "    return [ω, -sin(θ)]\n",
    "end"
   ]
  },
  {
   "cell_type": "code",
   "execution_count": 132,
   "metadata": {
    "collapsed": false
   },
   "outputs": [
    {
     "data": {
      "text/plain": [
       "([0.0,0.1,0.2,0.3,0.4,0.5,0.6,0.7,0.8,0.9  …  999.1,999.2,999.3,999.4,999.5,999.6,999.7,999.8,999.9,1000.0],[[0.7853981633974483,1.0],[0.8817497516608811,0.9259532985801582],[0.9703924204630995,0.8460129623054703],[1.0507928241895506,0.7612836143384747],[1.1225228436094996,0.6727606846801947],[1.1852475566323204,0.5813104745258778],[1.2387118689722416,0.4876629977604239],[1.28272698383445,0.39241554349427493],[1.3171576669599885,0.29604463393693026],[1.3419110332860475,0.1989241501624207]  …  [-1.2773653872392425,0.4051286144568113],[-1.232087658377058,0.5001914679814478],[-1.1773826713980775,0.5935820429119776],[-1.1134472965856095,0.6846859261884943],[-1.0405464732272827,0.7727549873443534],[-0.9590267770771953,0.8569051104105896],[-0.8693296821757975,0.9361249448248377],[-0.7720033111361568,1.0092976595683354],[-0.6677113073625746,1.0752368349801933],[-0.5572374159091539,1.1327361988490634]])"
      ]
     },
     "execution_count": 132,
     "metadata": {},
     "output_type": "execute_result"
    }
   ],
   "source": [
    "x_0 = [pi/4, 1.0]\n",
    "t_0 = 0.0\n",
    "t_f = 1000.0\n",
    "dt= 0.1\n",
    "t, x = integrar(f_pendulo, x_0, t_0, t_f, dt, 3)"
   ]
  }
 ],
 "metadata": {
  "celltoolbar": "Slideshow",
  "kernelspec": {
   "display_name": "Julia 0.4.3",
   "language": "julia",
   "name": "julia-0.4"
  },
  "language_info": {
   "file_extension": ".jl",
   "mimetype": "application/julia",
   "name": "julia",
   "version": "0.4.3"
  }
 },
 "nbformat": 4,
 "nbformat_minor": 0
}
