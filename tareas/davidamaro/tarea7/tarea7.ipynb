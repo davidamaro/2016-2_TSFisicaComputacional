{
 "cells": [
  {
   "cell_type": "code",
   "execution_count": 1,
   "metadata": {
    "collapsed": false
   },
   "outputs": [
    {
     "name": "stderr",
     "output_type": "stream",
     "text": [
      "INFO: Loading help data...\n"
     ]
    }
   ],
   "source": [
    "using PyPlot"
   ]
  },
  {
   "cell_type": "code",
   "execution_count": 2,
   "metadata": {
    "collapsed": false
   },
   "outputs": [
    {
     "data": {
      "text/plain": [
       "8-element Array{Float64,1}:\n",
       " 3.0    \n",
       " 3.33367\n",
       " 3.66733\n",
       " 4.001  \n",
       " 4.33467\n",
       " 4.66834\n",
       " 5.002  \n",
       " 5.33567"
      ]
     },
     "execution_count": 2,
     "metadata": {},
     "output_type": "execute_result"
    }
   ],
   "source": [
    "valores = [3,3.333667,3.6673340000000003,4.0010010000000005,4.334668000000001,4.668335000000001,5.002002000000001,5.335669000000001]"
   ]
  },
  {
   "cell_type": "code",
   "execution_count": 3,
   "metadata": {
    "collapsed": false
   },
   "outputs": [
    {
     "data": {
      "text/plain": [
       "8-element Array{Float64,1}:\n",
       " 0.0  \n",
       " 0.001\n",
       " 0.002\n",
       " 0.003\n",
       " 0.004\n",
       " 0.005\n",
       " 0.006\n",
       " 0.007"
      ]
     },
     "execution_count": 3,
     "metadata": {},
     "output_type": "execute_result"
    }
   ],
   "source": [
    "hs = [0,1e-3,2*1e-3,3*1e-3,4*1e-3,5*1e-3,6*1e-3,7*1e-3]"
   ]
  },
  {
   "cell_type": "code",
   "execution_count": 14,
   "metadata": {
    "collapsed": false
   },
   "outputs": [
    {
     "data": {
      "image/png": "[encoded data removed]",
      "text/plain": [
       "Figure(PyObject <matplotlib.figure.Figure object at 0x7fccff01e190>)"
      ]
     },
     "metadata": {},
     "output_type": "display_data"
    },
    {
     "data": {
      "text/plain": [
       "1-element Array{Any,1}:\n",
       " PyObject <matplotlib.lines.Line2D object at 0x7fccfeccf490>"
      ]
     },
     "execution_count": 14,
     "metadata": {},
     "output_type": "execute_result"
    }
   ],
   "source": [
    "y = [3/(1-3*k) for k in hs]\n",
    "plot(hs,y,\"g\")"
   ]
  },
  {
   "cell_type": "code",
   "execution_count": 15,
   "metadata": {
    "collapsed": false
   },
   "outputs": [
    {
     "data": {
      "text/plain": [
       "integrar (generic function with 1 method)"
      ]
     },
     "execution_count": 15,
     "metadata": {},
     "output_type": "execute_result"
    }
   ],
   "source": [
    "function RK2_paso(f, x, t, dt)\n",
    "    k = x + f(x, t) * dt/2 #Se calcula el punto medio\n",
    "    return x + f(k, t+ dt/2) * dt\n",
    "end\n",
    "\n",
    "function RK4_paso(f, x, t, dt)\n",
    "    k_1 = f(x, t)\n",
    "    k_2 = f(x + k_1 * dt/2, t + dt/2)\n",
    "    k_3 = f(x + k_2 * dt/2, t + dt/2)\n",
    "    k_4 = f(x + k_3 * dt, t + dt)\n",
    "    return x + dt * (k_1 +2 * (k_2 + k_3) + k_4 ) / 6\n",
    "end\n",
    "function RK4_paso(f, x, t, dt, β) #PFunción con arámetro auxiliar\n",
    "    k_1 = f(x, t, β)\n",
    "    k_2 = f(x + k_1 * dt/2, t + dt/2, β)\n",
    "    k_3 = f(x + k_2 * dt/2, t + dt/2, β)\n",
    "    k_4 = f(x + k_3 * dt, t + dt, β)\n",
    "    return x + dt * (k_1 +2 * (k_2 + k_3) + k_4 ) / 6\n",
    "end\n",
    "\n",
    "\n",
    "function integrar(f, x_0, t_0, t_f, dt, met) #met=1: Euler, met=2: RK2, met=3 RK3\n",
    "    x_vec = typeof(x_0)[]\n",
    "    t_vec = typeof(dt)[]\n",
    "    push!(x_vec, x_0)\n",
    "    push!(t_vec, t_0)\n",
    "    i = 1\n",
    "    for t in (t_0+dt):dt:t_f\n",
    "        if met == 1\n",
    "            x_nuevo = Euler_paso(f, x_vec[i], t, dt)\n",
    "        elseif met == 2\n",
    "            x_nuevo = RK2_paso(f, x_vec[i], t, dt)\n",
    "        elseif met == 3\n",
    "            x_nuevo = RK4_paso(f, x_vec[i], t, dt)\n",
    "        else println(\"Opción no válida. Por favor ingrese 1, 2 o 3.\")\n",
    "        end\n",
    "        push!(x_vec, x_nuevo)\n",
    "        push!(t_vec, t)\n",
    "        i += 1\n",
    "    end\n",
    "    return t_vec, x_vec\n",
    "end"
   ]
  },
  {
   "cell_type": "code",
   "execution_count": 16,
   "metadata": {
    "collapsed": false,
    "scrolled": true
   },
   "outputs": [
    {
     "data": {
      "text/plain": [
       "f_pendulo (generic function with 1 method)"
      ]
     },
     "execution_count": 16,
     "metadata": {},
     "output_type": "execute_result"
    }
   ],
   "source": [
    "function f_pendulo(x, t)\n",
    "    θ = x[1]\n",
    "    ω = x[2]\n",
    "    return [ω, -sin(θ)]\n",
    "end"
   ]
  },
  {
   "cell_type": "code",
   "execution_count": 24,
   "metadata": {
    "collapsed": false
   },
   "outputs": [
    {
     "data": {
      "text/plain": [
       "f_osc (generic function with 1 method)"
      ]
     },
     "execution_count": 24,
     "metadata": {},
     "output_type": "execute_result"
    }
   ],
   "source": [
    "function f_osc(x,t)\n",
    "    a = x[1]\n",
    "    b = x[2]\n",
    "    return [b, -2a]\n",
    "end"
   ]
  },
  {
   "cell_type": "code",
   "execution_count": 52,
   "metadata": {
    "collapsed": false
   },
   "outputs": [
    {
     "data": {
      "text/plain": [
       "f_ton (generic function with 1 method)"
      ]
     },
     "execution_count": 52,
     "metadata": {},
     "output_type": "execute_result"
    }
   ],
   "source": [
    "function f_ton(x,t)\n",
    "    a = x[1]\n",
    "    return [a^2]\n",
    "end"
   ]
  },
  {
   "cell_type": "code",
   "execution_count": 45,
   "metadata": {
    "collapsed": false
   },
   "outputs": [
    {
     "data": {
      "text/plain": [
       "([0.0,0.001,0.002,0.003,0.004,0.005,0.006,0.007,0.008,0.009  …  9.991,9.992,9.993,9.994,9.995,9.996,9.997,9.998,9.999,10.0],[[2.0,0.0],[2.0,-0.004],[1.99999,-0.00799999],[1.99998,-0.012],[1.99997,-0.0159999],[1.99995,-0.0199998],[1.99993,-0.0239997],[1.9999,-0.0279995],[1.99987,-0.0319993],[1.99984,-0.035999]  …  [0.0155183,-2.82834],[0.01269,-2.82837],[0.00986158,-2.82839],[0.00703318,-2.82841],[0.00420477,-2.82842],[0.00137634,-2.82843],[-0.00145208,-2.82843],[-0.00428051,-2.82842],[-0.00710892,-2.82841],[-0.00993732,-2.82839]])"
      ]
     },
     "execution_count": 45,
     "metadata": {},
     "output_type": "execute_result"
    }
   ],
   "source": [
    "x_0 = [2., 0.]\n",
    "t_0 = 0.0\n",
    "t_f = 10\n",
    "dt= 1e-3\n",
    "t, x = integrar(f_osc, x_0, t_0, t_f, dt, 3)"
   ]
  },
  {
   "cell_type": "code",
   "execution_count": 46,
   "metadata": {
    "collapsed": false
   },
   "outputs": [
    {
     "data": {
      "text/plain": [
       "10001-element Array{Any,1}:\n",
       "  0.0       \n",
       " -0.004     \n",
       " -0.00799999\n",
       " -0.012     \n",
       " -0.0159999 \n",
       " -0.0199998 \n",
       " -0.0239997 \n",
       " -0.0279995 \n",
       " -0.0319993 \n",
       " -0.035999  \n",
       " -0.0399987 \n",
       " -0.0439982 \n",
       " -0.0479977 \n",
       "  ⋮         \n",
       " -2.82827   \n",
       " -2.82831   \n",
       " -2.82834   \n",
       " -2.82837   \n",
       " -2.82839   \n",
       " -2.82841   \n",
       " -2.82842   \n",
       " -2.82843   \n",
       " -2.82843   \n",
       " -2.82842   \n",
       " -2.82841   \n",
       " -2.82839   "
      ]
     },
     "execution_count": 46,
     "metadata": {},
     "output_type": "execute_result"
    }
   ],
   "source": [
    "a = [x[1] for x in x]\n",
    "b = [x[2] for x in x]"
   ]
  },
  {
   "cell_type": "code",
   "execution_count": 51,
   "metadata": {
    "collapsed": false
   },
   "outputs": [
    {
     "data": {
      "image/png": "[encoded data removed]",
      "text/plain": [
       "Figure(PyObject <matplotlib.figure.Figure object at 0x7fccfe796e50>)"
      ]
     },
     "metadata": {},
     "output_type": "display_data"
    },
    {
     "data": {
      "text/plain": [
       "1-element Array{Any,1}:\n",
       " PyObject <matplotlib.lines.Line2D object at 0x7fccfdd8b290>"
      ]
     },
     "execution_count": 51,
     "metadata": {},
     "output_type": "execute_result"
    }
   ],
   "source": [
    "plot(t,b.^2/2+a.^2)"
   ]
  },
  {
   "cell_type": "code",
   "execution_count": null,
   "metadata": {
    "collapsed": true
   },
   "outputs": [],
   "source": []
  },
  {
   "cell_type": "code",
   "execution_count": 52,
   "metadata": {
    "collapsed": false
   },
   "outputs": [
    {
     "data": {
      "text/plain": [
       "f_ton (generic function with 1 method)"
      ]
     },
     "execution_count": 52,
     "metadata": {},
     "output_type": "execute_result"
    }
   ],
   "source": [
    "function f_ton(x,t)\n",
    "    a = x[1]\n",
    "    return [a^2]\n",
    "end"
   ]
  },
  {
   "cell_type": "code",
   "execution_count": 62,
   "metadata": {
    "collapsed": false
   },
   "outputs": [
    {
     "data": {
      "text/plain": [
       "([0.0,0.001,0.002,0.003,0.004,0.005,0.006,0.007,0.008,0.009  …  0.321,0.322,0.323,0.324,0.325,0.326,0.327,0.328,0.329,0.33],[[3.0],[3.00903],[3.01811],[3.02725],[3.03644],[3.04569],[3.05499],[3.06435],[3.07377],[3.08325]  …  [81.081],[88.2352],[96.7741],[107.143],[120.0],[136.363],[157.893],[187.497],[230.761],[299.97]])"
      ]
     },
     "execution_count": 62,
     "metadata": {},
     "output_type": "execute_result"
    }
   ],
   "source": [
    "x_0 = [3.]\n",
    "t_0 = 0.0\n",
    "t_f = .33\n",
    "dt= 1e-3\n",
    "t, x = integrar(f_ton, x_0, t_0, t_f, dt, 3)"
   ]
  },
  {
   "cell_type": "code",
   "execution_count": 66,
   "metadata": {
    "collapsed": false
   },
   "outputs": [
    {
     "data": {
      "image/png": "[encoded data removed]",
      "text/plain": [
       "Figure(PyObject <matplotlib.figure.Figure object at 0x7fccfdd8bf10>)"
      ]
     },
     "metadata": {},
     "output_type": "display_data"
    },
    {
     "data": {
      "text/plain": [
       "1-element Array{Any,1}:\n",
       " PyObject <matplotlib.lines.Line2D object at 0x7fccfdaca910>"
      ]
     },
     "execution_count": 66,
     "metadata": {},
     "output_type": "execute_result"
    }
   ],
   "source": [
    "plot(t,x)\n",
    "g = {3/(1-3*k) for k in t}\n",
    "plot(t,g,\".\")"
   ]
  },
  {
   "cell_type": "code",
   "execution_count": 69,
   "metadata": {
    "collapsed": false
   },
   "outputs": [
    {
     "data": {
      "text/plain": [
       "10-element Array{Array{Float64,1},1}:\n",
       " [3.0]    \n",
       " [3.00903]\n",
       " [3.01811]\n",
       " [3.02725]\n",
       " [3.03644]\n",
       " [3.04569]\n",
       " [3.05499]\n",
       " [3.06435]\n",
       " [3.07377]\n",
       " [3.08325]"
      ]
     },
     "execution_count": 69,
     "metadata": {},
     "output_type": "execute_result"
    }
   ],
   "source": [
    "x[1:10]"
   ]
  },
  {
   "cell_type": "code",
   "execution_count": null,
   "metadata": {
    "collapsed": true
   },
   "outputs": [],
   "source": []
  },
  {
   "cell_type": "code",
   "execution_count": 70,
   "metadata": {
    "collapsed": false
   },
   "outputs": [
    {
     "ename": "LoadError",
     "evalue": "AD not defined\nwhile loading In[70], in expression starting on line 1",
     "output_type": "error",
     "traceback": [
      "AD not defined\nwhile loading In[70], in expression starting on line 1",
      ""
     ]
    }
   ],
   "source": [
    "AD.Taylor(0,[3,9,0,0,0])"
   ]
  },
  {
   "cell_type": "code",
   "execution_count": 71,
   "metadata": {
    "collapsed": false
   },
   "outputs": [
    {
     "ename": "LoadError",
     "evalue": "AD not found\nwhile loading In[71], in expression starting on line 1",
     "output_type": "error",
     "traceback": [
      "AD not found\nwhile loading In[71], in expression starting on line 1",
      "",
      " in require at loading.jl:47"
     ]
    }
   ],
   "source": [
    "using AD"
   ]
  },
  {
   "cell_type": "code",
   "execution_count": 72,
   "metadata": {
    "collapsed": false
   },
   "outputs": [
    {
     "ename": "LoadError",
     "evalue": "could not open file /home/juser/Automata.jl\nwhile loading In[72], in expression starting on line 1",
     "output_type": "error",
     "traceback": [
      "could not open file /home/juser/Automata.jl\nwhile loading In[72], in expression starting on line 1",
      "",
      " in include at ./boot.jl:245",
      " in include_from_node1 at ./loading.jl:128"
     ]
    }
   ],
   "source": [
    "include(\"Automata.jl\")"
   ]
  },
  {
   "cell_type": "code",
   "execution_count": null,
   "metadata": {
    "collapsed": true
   },
   "outputs": [],
   "source": []
  }
 ],
 "metadata": {
  "kernelspec": {
   "display_name": "Julia 0.3.12",
   "language": "julia",
   "name": "julia-0.3"
  },
  "language_info": {
   "file_extension": ".jl",
   "mimetype": "application/julia",
   "name": "julia",
   "version": "0.3.12"
  }
 },
 "nbformat": 4,
 "nbformat_minor": 0
}
