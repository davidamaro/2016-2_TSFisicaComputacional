{
 "cells": [
  {
   "cell_type": "markdown",
   "metadata": {},
   "source": [
    "# Tarea 2 --- Amaro-Alcalá David"
   ]
  },
  {
   "cell_type": "markdown",
   "metadata": {},
   "source": [
    "# Razonamiento\n",
    "Me pareció correcta la idea de tomar el valor de mayor complejidad como el tipo de dato que fuera el que devolviera la función, _i.e._, si le metemos a la función un real y dos enteros que tomara el entero como el valor a devolver (cuando la solución fuera real), así que el primer paso era conocer este tipo. Para hacerlo primero se me ocurrio aplicar `typeof` a cada elemento de la lista y de alguna manera conocerlo. Afortunadamente al utilizar la función `map` y meter en una lista los coeficientes esta devolvía por igual el valor del término de mayor complejidad.\n",
    "\n",
    "Por lo que sólo basta calcular la raíz y convertirlo al tipo encontrado. Esto hubiera sido sencillo si no fuera porque `convert` no convierte `Complex{Float64}` a otro que no sea el mismo, ni siquiera `Complex{Int64}`, como se puede observar en el primer ejemplo."
   ]
  },
  {
   "cell_type": "code",
   "execution_count": 1,
   "metadata": {
    "collapsed": false
   },
   "outputs": [
    {
     "data": {
      "text/plain": [
       "Array{Complex{Float64},1}"
      ]
     },
     "execution_count": 1,
     "metadata": {},
     "output_type": "execute_result"
    }
   ],
   "source": [
    "typeof([1,1.,1+im])"
   ]
  },
  {
   "cell_type": "code",
   "execution_count": 2,
   "metadata": {
    "collapsed": false
   },
   "outputs": [
    {
     "ename": "LoadError",
     "evalue": "LoadError: MethodError: `getindex` has no method matching getindex(::Function, ::Array{Complex{Float64},1})\nwhile loading In[2], in expression starting on line 1",
     "output_type": "error",
     "traceback": [
      "LoadError: MethodError: `getindex` has no method matching getindex(::Function, ::Array{Complex{Float64},1})\nwhile loading In[2], in expression starting on line 1",
      ""
     ]
    }
   ],
   "source": [
    "typeof[[1,1.,1+im]]"
   ]
  },
  {
   "cell_type": "code",
   "execution_count": 3,
   "metadata": {
    "collapsed": false
   },
   "outputs": [
    {
     "data": {
      "text/plain": [
       "3-element Array{DataType,1}:\n",
       " Complex{Float64}\n",
       " Complex{Float64}\n",
       " Complex{Float64}"
      ]
     },
     "execution_count": 3,
     "metadata": {},
     "output_type": "execute_result"
    }
   ],
   "source": [
    "map(typeof,[1,1.,1+im])"
   ]
  },
  {
   "cell_type": "code",
   "execution_count": 4,
   "metadata": {
    "collapsed": false
   },
   "outputs": [
    {
     "data": {
      "text/plain": [
       "identificador (generic function with 1 method)"
      ]
     },
     "execution_count": 4,
     "metadata": {},
     "output_type": "execute_result"
    }
   ],
   "source": [
    "doc\"\"\"\n",
    "`raiz1` recibe los tres coeficientes de la ecuación de segundo grado $ax^2+bx+c$ y calcula la raíz utilizando la superconocida\n",
    "$\n",
    "x_{1,2} = \\frac{-b\\pm\\sqrt{b^2-4ac}}{2a}\n",
    "$.\n",
    "\"\"\"\n",
    "function raiz1(coef)\n",
    "    valor = map(typeof,coef)[1]\n",
    "    Any[convert(valor,(-coef[2]+sqrt(complex(coef[2]^2-4*coef[1]*coef[3])))/2*coef[1]),\n",
    "        convert(valor,(-coef[2]-sqrt(complex(coef[2]^2-4*coef[1]*coef[3])))/2*coef[1])]\n",
    "end\n",
    "doc\"\"\"\n",
    "`identificador` redondea la `raíz` dependiendo el tipo de la raíz, _i.e._, si la raíz es `0.1+0.0im` regresa `0.1`.\n",
    "\"\"\"\n",
    "function identificador(raiz)\n",
    "    if isreal(raiz)\n",
    "        if isinteger(raiz)\n",
    "            return round(Int,real(raiz))\n",
    "        end\n",
    "        return real(raiz)\n",
    "    else\n",
    "        return raiz\n",
    "    end\n",
    "end"
   ]
  },
  {
   "cell_type": "markdown",
   "metadata": {},
   "source": [
    "## Documentación"
   ]
  },
  {
   "cell_type": "code",
   "execution_count": 5,
   "metadata": {
    "collapsed": false
   },
   "outputs": [
    {
     "name": "stdout",
     "output_type": "stream",
     "text": [
      "search: "
     ]
    },
    {
     "data": {
      "text/latex": [
       "\\texttt{raiz1} recibe los tres coeficientes de la ecuación de segundo grado $ax^2+bx+c$ y calcula la raíz utilizando la superconocida \\$ x\\_\\{1,2\\} = {\\textbackslash}frac\\{-b{\\textbackslash}pm{\\textbackslash}sqrt\\{b\\^{}2-4ac\\}\\}\\{2a\\} \\$.\n"
      ],
      "text/markdown": [
       "`raiz1` recibe los tres coeficientes de la ecuación de segundo grado $ax^2+bx+c$ y calcula la raíz utilizando la superconocida $ x_{1,2} = \\frac{-b\\pm\\sqrt{b^2-4ac}}{2a} $.\n"
      ],
      "text/plain": [
       "`raiz1` recibe los tres coeficientes de la ecuación de segundo grado $ax^2+bx+c$ y calcula la raíz utilizando la superconocida $ x_{1,2} = \\frac{-b\\pm\\sqrt{b^2-4ac}}{2a} $.\n"
      ]
     },
     "execution_count": 5,
     "metadata": {},
     "output_type": "execute_result"
    }
   ],
   "source": [
    "?raiz1"
   ]
  },
  {
   "cell_type": "code",
   "execution_count": 6,
   "metadata": {
    "collapsed": false
   },
   "outputs": [
    {
     "name": "stdout",
     "output_type": "stream",
     "text": [
      "raiz1 serialize Serializer normalize_string SerializationState\n",
      "\n",
      "search: "
     ]
    },
    {
     "data": {
      "text/latex": [
       "\\texttt{identificador} redondea la \\texttt{raíz} dependiendo el tipo de la raíz, \\_i.e.\\_, si la raíz es \\texttt{0.1+0.0im} regresa \\texttt{0.1}.\n"
      ],
      "text/markdown": [
       "`identificador` redondea la `raíz` dependiendo el tipo de la raíz, _i.e._, si la raíz es `0.1+0.0im` regresa `0.1`.\n"
      ],
      "text/plain": [
       "`identificador` redondea la `raíz` dependiendo el tipo de la raíz, _i.e._, si la raíz es `0.1+0.0im` regresa `0.1`.\n"
      ]
     },
     "execution_count": 6,
     "metadata": {},
     "output_type": "execute_result"
    }
   ],
   "source": [
    "?identificador"
   ]
  },
  {
   "cell_type": "markdown",
   "metadata": {},
   "source": [
    "## Ejemplos de uso"
   ]
  },
  {
   "cell_type": "code",
   "execution_count": 7,
   "metadata": {
    "collapsed": false
   },
   "outputs": [
    {
     "ename": "LoadError",
     "evalue": "LoadError: MethodError: `raiz1` has no method matching raiz1(::Int64, ::Int64, ::Int64)\nClosest candidates are:\n  raiz1(::Any)\nwhile loading In[7], in expression starting on line 1",
     "output_type": "error",
     "traceback": [
      "LoadError: MethodError: `raiz1` has no method matching raiz1(::Int64, ::Int64, ::Int64)\nClosest candidates are:\n  raiz1(::Any)\nwhile loading In[7], in expression starting on line 1",
      ""
     ]
    }
   ],
   "source": [
    "raiz1(1,3,33)"
   ]
  },
  {
   "cell_type": "code",
   "execution_count": 8,
   "metadata": {
    "collapsed": false
   },
   "outputs": [
    {
     "ename": "LoadError",
     "evalue": "LoadError: MethodError: `raiz1` has no method matching raiz1(::Complex{Int64}, ::Complex{Int64}, ::Complex{Int64})\nClosest candidates are:\n  raiz1(::Any)\nwhile loading In[8], in expression starting on line 1",
     "output_type": "error",
     "traceback": [
      "LoadError: MethodError: `raiz1` has no method matching raiz1(::Complex{Int64}, ::Complex{Int64}, ::Complex{Int64})\nClosest candidates are:\n  raiz1(::Any)\nwhile loading In[8], in expression starting on line 1",
      ""
     ]
    }
   ],
   "source": [
    "raiz1(1.+0im,3.+0im,33.+0im)"
   ]
  },
  {
   "cell_type": "markdown",
   "metadata": {},
   "source": [
    "## Comprobación"
   ]
  },
  {
   "cell_type": "code",
   "execution_count": 9,
   "metadata": {
    "collapsed": false
   },
   "outputs": [
    {
     "data": {
      "text/plain": [
       "2-element Array{Any,1}:\n",
       " -1.5+5.54527im\n",
       " -1.5-5.54527im"
      ]
     },
     "execution_count": 9,
     "metadata": {},
     "output_type": "execute_result"
    },
    {
     "name": "stdout",
     "output_type": "stream",
     "text": [
      "identificador\n",
      "\n"
     ]
    }
   ],
   "source": [
    "coef=[1.+0.im,3.+0.im,33.+0.im]\n",
    "raices=raiz1(coef)"
   ]
  },
  {
   "cell_type": "code",
   "execution_count": 10,
   "metadata": {
    "collapsed": false
   },
   "outputs": [
    {
     "data": {
      "text/plain": [
       "0.0 + 0.0im"
      ]
     },
     "execution_count": 10,
     "metadata": {},
     "output_type": "execute_result"
    }
   ],
   "source": [
    "coef[1]*raices[1]^2+coef[2]*raices[1]+coef[3]"
   ]
  },
  {
   "cell_type": "code",
   "execution_count": 11,
   "metadata": {
    "collapsed": false
   },
   "outputs": [
    {
     "data": {
      "text/plain": [
       "0.0 + 0.0im"
      ]
     },
     "execution_count": 11,
     "metadata": {},
     "output_type": "execute_result"
    }
   ],
   "source": [
    "coef[1]*raices[2]^2+coef[2]*raices[2]+coef[3]"
   ]
  },
  {
   "cell_type": "code",
   "execution_count": 12,
   "metadata": {
    "collapsed": false
   },
   "outputs": [
    {
     "data": {
      "text/plain": [
       "-1.5 + 5.545268253204709im"
      ]
     },
     "execution_count": 12,
     "metadata": {},
     "output_type": "execute_result"
    }
   ],
   "source": [
    "convert(Complex{Float64},-1.5 + 5.545268253204709im)"
   ]
  },
  {
   "cell_type": "code",
   "execution_count": 13,
   "metadata": {
    "collapsed": false
   },
   "outputs": [
    {
     "data": {
      "text/plain": [
       "2-element Array{Any,1}:\n",
       " -1.16334\n",
       " -2.83666"
      ]
     },
     "execution_count": 13,
     "metadata": {},
     "output_type": "execute_result"
    }
   ],
   "source": [
    "coef=[1,4,3.3]\n",
    "raices=raiz1(coef)"
   ]
  },
  {
   "cell_type": "code",
   "execution_count": 14,
   "metadata": {
    "collapsed": false
   },
   "outputs": [
    {
     "data": {
      "text/plain": [
       "0.0"
      ]
     },
     "execution_count": 14,
     "metadata": {},
     "output_type": "execute_result"
    }
   ],
   "source": [
    "coef[1]*raices[1]^2+coef[2]*raices[1]+coef[3]"
   ]
  },
  {
   "cell_type": "code",
   "execution_count": 15,
   "metadata": {
    "collapsed": false
   },
   "outputs": [
    {
     "data": {
      "text/plain": [
       "-8.881784197001252e-16"
      ]
     },
     "execution_count": 15,
     "metadata": {},
     "output_type": "execute_result"
    }
   ],
   "source": [
    "coef[1]*raices[2]^2+coef[2]*raices[2]+coef[3]"
   ]
  },
  {
   "cell_type": "code",
   "execution_count": 16,
   "metadata": {
    "collapsed": false
   },
   "outputs": [
    {
     "data": {
      "text/plain": [
       "2-element Array{Any,1}:\n",
       " -2\n",
       " -2"
      ]
     },
     "execution_count": 16,
     "metadata": {},
     "output_type": "execute_result"
    }
   ],
   "source": [
    "coef=[1,4,4]\n",
    "raices=raiz1(coef)"
   ]
  },
  {
   "cell_type": "code",
   "execution_count": 17,
   "metadata": {
    "collapsed": false
   },
   "outputs": [
    {
     "data": {
      "text/plain": [
       "0"
      ]
     },
     "execution_count": 17,
     "metadata": {},
     "output_type": "execute_result"
    }
   ],
   "source": [
    "coef[1]*raices[1]^2+coef[2]*raices[1]+coef[3]"
   ]
  },
  {
   "cell_type": "code",
   "execution_count": 18,
   "metadata": {
    "collapsed": false
   },
   "outputs": [
    {
     "data": {
      "text/plain": [
       "0"
      ]
     },
     "execution_count": 18,
     "metadata": {},
     "output_type": "execute_result"
    }
   ],
   "source": [
    "coef[1]*raices[2]^2+coef[2]*raices[2]+coef[3]"
   ]
  }
 ],
 "metadata": {
  "kernelspec": {
   "display_name": "Julia 0.4.3",
   "language": "julia",
   "name": "julia-0.4"
  },
  "language_info": {
   "file_extension": ".jl",
   "mimetype": "application/julia",
   "name": "julia",
   "version": "0.4.3"
  }
 },
 "nbformat": 4,
 "nbformat_minor": 0
}
